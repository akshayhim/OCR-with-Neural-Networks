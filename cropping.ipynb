{
 "cells": [
  {
   "cell_type": "code",
   "execution_count": 1,
   "id": "3040fabd",
   "metadata": {},
   "outputs": [],
   "source": [
    "import numpy as np\n",
    "import cv2\n",
    "img = cv2.imread(\"Static/file4.png\")\n",
    "  # Read in the image and convert to grayscale\n",
    "img = img[:-20, :-20]  # Perform pre-cropping\n",
    "gray = cv2.cvtColor(img, cv2.COLOR_BGR2GRAY)\n",
    "gray = 255*(gray < 50).astype(np.uint8)  # To invert the text to white\n",
    "gray = cv2.morphologyEx(gray, cv2.MORPH_OPEN, np.ones(\n",
    "    (2, 2), dtype=np.uint8))  # Perform noise filtering\n",
    "coords = cv2.findNonZero(gray)  # Find all non-zero points (text)\n",
    "x, y, w, h = cv2.boundingRect(coords)  # Find minimum spanning bounding box\n",
    "# Crop the image - note we do this on the original image\n",
    "rect = img[y:y+h, x:x+w]\n",
    "cv2.imshow(\"Cropped\", rect)  # Show it\n",
    "cv2.waitKey(0)\n",
    "cv2.destroyAllWindows()"
   ]
  },
  {
   "cell_type": "code",
   "execution_count": 4,
   "id": "12e6a047",
   "metadata": {},
   "outputs": [
    {
     "data": {
      "text/plain": [
       "(189, 505, 3)"
      ]
     },
     "execution_count": 4,
     "metadata": {},
     "output_type": "execute_result"
    }
   ],
   "source": [
    "rect.shape"
   ]
  },
  {
   "cell_type": "code",
   "execution_count": 2,
   "id": "9058661f",
   "metadata": {},
   "outputs": [
    {
     "data": {
      "text/plain": [
       "-1"
      ]
     },
     "execution_count": 2,
     "metadata": {},
     "output_type": "execute_result"
    }
   ],
   "source": [
    "import cv2\n",
    "import numpy as np\n",
    "\n",
    "# Load image, grayscale, Gaussian blur, Otsu's threshold\n",
    "image = cv2.imread('Static/file.png')\n",
    "original = image.copy()\n",
    "gray = cv2.cvtColor(image, cv2.COLOR_BGR2GRAY)\n",
    "blur = cv2.GaussianBlur(gray, (3, 3), 0)\n",
    "thresh = cv2.threshold(blur, 0, 255, cv2.THRESH_BINARY_INV + cv2.THRESH_OTSU)[1]\n",
    "\n",
    "# Remove horizontal lines\n",
    "horizontal_kernel = cv2.getStructuringElement(cv2.MORPH_RECT, (25,1))\n",
    "detected_lines = cv2.morphologyEx(thresh, cv2.MORPH_OPEN, horizontal_kernel, iterations=1)\n",
    "cnts = cv2.findContours(detected_lines, cv2.RETR_EXTERNAL, cv2.CHAIN_APPROX_SIMPLE)\n",
    "cnts = cnts[0] if len(cnts) == 2 else cnts[1]\n",
    "for c in cnts:\n",
    "    cv2.drawContours(thresh, [c], -1, 0, -1)\n",
    "\n",
    "# Dilate to merge into a single contour\n",
    "vertical_kernel = cv2.getStructuringElement(cv2.MORPH_RECT, (2,30))\n",
    "dilate = cv2.dilate(thresh, vertical_kernel, iterations=3)\n",
    "\n",
    "# Find contours, sort for largest contour and extract ROI\n",
    "cnts, _ = cv2.findContours(dilate, cv2.RETR_EXTERNAL, cv2.CHAIN_APPROX_SIMPLE)[-2:]\n",
    "cnts = sorted(cnts, key=cv2.contourArea, reverse=True)[:-1]\n",
    "for c in cnts:\n",
    "    x,y,w,h = cv2.boundingRect(c)\n",
    "    cv2.rectangle(image, (x, y), (x + w, y + h), (36,255,12), 4)\n",
    "    ROI = original[y:y+h, x:x+w]\n",
    "    break\n",
    "\n",
    "cv2.imshow('image', image)\n",
    "cv2.imshow('dilate', dilate)\n",
    "cv2.imshow('thresh', thresh)\n",
    "cv2.imshow('ROI', ROI)\n",
    "cv2.waitKey()"
   ]
  },
  {
   "cell_type": "code",
   "execution_count": null,
   "id": "6548fe1e",
   "metadata": {},
   "outputs": [],
   "source": []
  }
 ],
 "metadata": {
  "kernelspec": {
   "display_name": "Python 3 (ipykernel)",
   "language": "python",
   "name": "python3"
  },
  "language_info": {
   "codemirror_mode": {
    "name": "ipython",
    "version": 3
   },
   "file_extension": ".py",
   "mimetype": "text/x-python",
   "name": "python",
   "nbconvert_exporter": "python",
   "pygments_lexer": "ipython3",
   "version": "3.10.9"
  }
 },
 "nbformat": 4,
 "nbformat_minor": 5
}

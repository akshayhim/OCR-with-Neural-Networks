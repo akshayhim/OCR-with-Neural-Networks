{
 "cells": [
  {
   "cell_type": "code",
   "execution_count": 1,
   "id": "1f036b92",
   "metadata": {},
   "outputs": [],
   "source": [
    "import pandas as pd\n",
    "import numpy as np\n",
    "import matplotlib.pyplot as plt\n",
    "import tensorflow as tf\n",
    "import os\n",
    "from PIL import Image"
   ]
  },
  {
   "cell_type": "code",
   "execution_count": 2,
   "id": "60bc8753",
   "metadata": {},
   "outputs": [
    {
     "data": {
      "text/plain": [
       "['.ipynb_checkpoints',\n",
       " 'app.py',\n",
       " 'Classes.pkl',\n",
       " 'cropping.ipynb',\n",
       " 'Data',\n",
       " 'DataCleaning.ipynb',\n",
       " 'LettersLearning.ipynb',\n",
       " 'Model1.hdf5',\n",
       " 'Model2.hdf5',\n",
       " 'Static',\n",
       " 'Templates']"
      ]
     },
     "execution_count": 2,
     "metadata": {},
     "output_type": "execute_result"
    }
   ],
   "source": [
    "os.listdir()"
   ]
  },
  {
   "cell_type": "code",
   "execution_count": 14,
   "id": "d42fbd31",
   "metadata": {},
   "outputs": [],
   "source": [
    "l=[1,9,81,89,93,105,161,209,213,221,121,149,941,685,701,453,477,447,189,297,501,689,757,489,781,773,873,877,897,997,989,929,933,253,261,293,381,385,401,433,461,485,525,529,557,613,629,753,777,789,805,825,841,877,993,1005]"
   ]
  },
  {
   "cell_type": "code",
   "execution_count": 15,
   "id": "3904a8b1",
   "metadata": {},
   "outputs": [
    {
     "name": "stdout",
     "output_type": "stream",
     "text": [
      "C:\\Users\\RumitP\\Downloads\\English Printed\\Data\\Sample001\n",
      "C:\\Users\\RumitP\\Downloads\\English Printed\\Data\\Sample002\n",
      "C:\\Users\\RumitP\\Downloads\\English Printed\\Data\\Sample003\n",
      "C:\\Users\\RumitP\\Downloads\\English Printed\\Data\\Sample004\n",
      "C:\\Users\\RumitP\\Downloads\\English Printed\\Data\\Sample005\n",
      "C:\\Users\\RumitP\\Downloads\\English Printed\\Data\\Sample006\n",
      "C:\\Users\\RumitP\\Downloads\\English Printed\\Data\\Sample007\n",
      "C:\\Users\\RumitP\\Downloads\\English Printed\\Data\\Sample008\n",
      "C:\\Users\\RumitP\\Downloads\\English Printed\\Data\\Sample009\n",
      "C:\\Users\\RumitP\\Downloads\\English Printed\\Data\\Sample010\n",
      "C:\\Users\\RumitP\\Downloads\\English Printed\\Data\\Sample011\n",
      "C:\\Users\\RumitP\\Downloads\\English Printed\\Data\\Sample012\n",
      "C:\\Users\\RumitP\\Downloads\\English Printed\\Data\\Sample013\n",
      "C:\\Users\\RumitP\\Downloads\\English Printed\\Data\\Sample014\n",
      "C:\\Users\\RumitP\\Downloads\\English Printed\\Data\\Sample015\n",
      "C:\\Users\\RumitP\\Downloads\\English Printed\\Data\\Sample016\n",
      "C:\\Users\\RumitP\\Downloads\\English Printed\\Data\\Sample017\n",
      "C:\\Users\\RumitP\\Downloads\\English Printed\\Data\\Sample018\n",
      "C:\\Users\\RumitP\\Downloads\\English Printed\\Data\\Sample019\n",
      "C:\\Users\\RumitP\\Downloads\\English Printed\\Data\\Sample020\n",
      "C:\\Users\\RumitP\\Downloads\\English Printed\\Data\\Sample021\n",
      "C:\\Users\\RumitP\\Downloads\\English Printed\\Data\\Sample022\n",
      "C:\\Users\\RumitP\\Downloads\\English Printed\\Data\\Sample023\n",
      "C:\\Users\\RumitP\\Downloads\\English Printed\\Data\\Sample024\n",
      "C:\\Users\\RumitP\\Downloads\\English Printed\\Data\\Sample025\n",
      "C:\\Users\\RumitP\\Downloads\\English Printed\\Data\\Sample026\n",
      "C:\\Users\\RumitP\\Downloads\\English Printed\\Data\\Sample027\n",
      "C:\\Users\\RumitP\\Downloads\\English Printed\\Data\\Sample028\n",
      "C:\\Users\\RumitP\\Downloads\\English Printed\\Data\\Sample029\n",
      "C:\\Users\\RumitP\\Downloads\\English Printed\\Data\\Sample030\n",
      "C:\\Users\\RumitP\\Downloads\\English Printed\\Data\\Sample031\n",
      "C:\\Users\\RumitP\\Downloads\\English Printed\\Data\\Sample032\n",
      "C:\\Users\\RumitP\\Downloads\\English Printed\\Data\\Sample033\n",
      "C:\\Users\\RumitP\\Downloads\\English Printed\\Data\\Sample034\n",
      "C:\\Users\\RumitP\\Downloads\\English Printed\\Data\\Sample035\n",
      "C:\\Users\\RumitP\\Downloads\\English Printed\\Data\\Sample036\n",
      "C:\\Users\\RumitP\\Downloads\\English Printed\\Data\\Sample037\n",
      "C:\\Users\\RumitP\\Downloads\\English Printed\\Data\\Sample038\n",
      "C:\\Users\\RumitP\\Downloads\\English Printed\\Data\\Sample039\n",
      "C:\\Users\\RumitP\\Downloads\\English Printed\\Data\\Sample040\n",
      "C:\\Users\\RumitP\\Downloads\\English Printed\\Data\\Sample041\n",
      "C:\\Users\\RumitP\\Downloads\\English Printed\\Data\\Sample042\n",
      "C:\\Users\\RumitP\\Downloads\\English Printed\\Data\\Sample043\n",
      "C:\\Users\\RumitP\\Downloads\\English Printed\\Data\\Sample044\n",
      "C:\\Users\\RumitP\\Downloads\\English Printed\\Data\\Sample045\n",
      "C:\\Users\\RumitP\\Downloads\\English Printed\\Data\\Sample046\n",
      "C:\\Users\\RumitP\\Downloads\\English Printed\\Data\\Sample047\n",
      "C:\\Users\\RumitP\\Downloads\\English Printed\\Data\\Sample048\n",
      "C:\\Users\\RumitP\\Downloads\\English Printed\\Data\\Sample049\n",
      "C:\\Users\\RumitP\\Downloads\\English Printed\\Data\\Sample050\n",
      "C:\\Users\\RumitP\\Downloads\\English Printed\\Data\\Sample051\n",
      "C:\\Users\\RumitP\\Downloads\\English Printed\\Data\\Sample052\n",
      "C:\\Users\\RumitP\\Downloads\\English Printed\\Data\\Sample053\n",
      "C:\\Users\\RumitP\\Downloads\\English Printed\\Data\\Sample054\n",
      "C:\\Users\\RumitP\\Downloads\\English Printed\\Data\\Sample055\n",
      "C:\\Users\\RumitP\\Downloads\\English Printed\\Data\\Sample056\n",
      "C:\\Users\\RumitP\\Downloads\\English Printed\\Data\\Sample057\n",
      "C:\\Users\\RumitP\\Downloads\\English Printed\\Data\\Sample058\n",
      "C:\\Users\\RumitP\\Downloads\\English Printed\\Data\\Sample059\n",
      "C:\\Users\\RumitP\\Downloads\\English Printed\\Data\\Sample060\n",
      "C:\\Users\\RumitP\\Downloads\\English Printed\\Data\\Sample061\n",
      "C:\\Users\\RumitP\\Downloads\\English Printed\\Data\\Sample062\n"
     ]
    }
   ],
   "source": [
    "path=os.getcwd()\n",
    "path=os.path.join(path,'Data')\n",
    "os.chdir(path)\n",
    "for i in os.listdir():\n",
    "    path=os.path.join(path,i)\n",
    "    os.chdir(path)\n",
    "    for i in os.listdir():\n",
    "        a=int(i.split('-')[1].split('.')[0])\n",
    "        if a in l or a-1 in l or a-2 in l or a-3 in l :\n",
    "            #print(i)\n",
    "            os.remove(i)\n",
    "    \n",
    "    print(os.getcwd())\n",
    "    #os.chdir()\n",
    "    #print(os.getcwd())\n",
    "    os.chdir('..')\n",
    "    path=os.getcwd()\n",
    "    \n",
    "os.chdir('..')"
   ]
  },
  {
   "cell_type": "raw",
   "id": "2ffd2d87",
   "metadata": {},
   "source": [
    "path=os.getcwd()\n",
    "path=os.path.join(path,'Data')\n",
    "os.chdir(path)\n",
    "for i in os.listdir():\n",
    "    path=os.path.join(path,i)\n",
    "    os.chdir(path)\n",
    "    for i in os.listdir():\n",
    "        image = plt.imread(i)\n",
    "        plt.imshow(image)\n",
    "        #plt.imshow(i)\n",
    "        plt.show()\n",
    "        break\n",
    "    \n",
    "    print(os.getcwd())\n",
    "    #os.chdir()\n",
    "    #print(os.getcwd())\n",
    "    os.chdir('..')\n",
    "    path=os.getcwd()\n",
    "    \n",
    "os.chdir('..')"
   ]
  },
  {
   "cell_type": "code",
   "execution_count": 16,
   "id": "0daceb0f",
   "metadata": {},
   "outputs": [],
   "source": [
    "d3={str(i):i for i in range(0,10)}\n",
    "d1={chr(i+55):i for i in range(10,36)}\n",
    "d2={chr(i+61):i for i in range(36,62)}\n"
   ]
  },
  {
   "cell_type": "code",
   "execution_count": 17,
   "id": "6b7d468d",
   "metadata": {},
   "outputs": [],
   "source": [
    "classes={**d3,**d1,**d2}"
   ]
  },
  {
   "cell_type": "code",
   "execution_count": 18,
   "id": "5e320c91",
   "metadata": {},
   "outputs": [
    {
     "data": {
      "text/plain": [
       "{'0': 0,\n",
       " '1': 1,\n",
       " '2': 2,\n",
       " '3': 3,\n",
       " '4': 4,\n",
       " '5': 5,\n",
       " '6': 6,\n",
       " '7': 7,\n",
       " '8': 8,\n",
       " '9': 9,\n",
       " 'A': 10,\n",
       " 'B': 11,\n",
       " 'C': 12,\n",
       " 'D': 13,\n",
       " 'E': 14,\n",
       " 'F': 15,\n",
       " 'G': 16,\n",
       " 'H': 17,\n",
       " 'I': 18,\n",
       " 'J': 19,\n",
       " 'K': 20,\n",
       " 'L': 21,\n",
       " 'M': 22,\n",
       " 'N': 23,\n",
       " 'O': 24,\n",
       " 'P': 25,\n",
       " 'Q': 26,\n",
       " 'R': 27,\n",
       " 'S': 28,\n",
       " 'T': 29,\n",
       " 'U': 30,\n",
       " 'V': 31,\n",
       " 'W': 32,\n",
       " 'X': 33,\n",
       " 'Y': 34,\n",
       " 'Z': 35,\n",
       " 'a': 36,\n",
       " 'b': 37,\n",
       " 'c': 38,\n",
       " 'd': 39,\n",
       " 'e': 40,\n",
       " 'f': 41,\n",
       " 'g': 42,\n",
       " 'h': 43,\n",
       " 'i': 44,\n",
       " 'j': 45,\n",
       " 'k': 46,\n",
       " 'l': 47,\n",
       " 'm': 48,\n",
       " 'n': 49,\n",
       " 'o': 50,\n",
       " 'p': 51,\n",
       " 'q': 52,\n",
       " 'r': 53,\n",
       " 's': 54,\n",
       " 't': 55,\n",
       " 'u': 56,\n",
       " 'v': 57,\n",
       " 'w': 58,\n",
       " 'x': 59,\n",
       " 'y': 60,\n",
       " 'z': 61}"
      ]
     },
     "execution_count": 18,
     "metadata": {},
     "output_type": "execute_result"
    }
   ],
   "source": [
    "classes"
   ]
  },
  {
   "cell_type": "code",
   "execution_count": 19,
   "id": "f427a4f1",
   "metadata": {},
   "outputs": [],
   "source": [
    "def get_key(val):\n",
    "    for key, value in classes.items():\n",
    "        if val == value:\n",
    "            return key"
   ]
  },
  {
   "cell_type": "code",
   "execution_count": 20,
   "id": "636bd821",
   "metadata": {},
   "outputs": [
    {
     "name": "stdout",
     "output_type": "stream",
     "text": [
      "1-0\n",
      "2-1\n",
      "3-2\n",
      "4-3\n",
      "5-4\n",
      "6-5\n",
      "7-6\n",
      "8-7\n",
      "9-8\n",
      "10-9\n",
      "11-A\n",
      "12-B\n",
      "13-C\n",
      "14-D\n",
      "15-E\n",
      "16-F\n",
      "17-G\n",
      "18-H\n",
      "19-I\n",
      "20-J\n",
      "21-K\n",
      "22-L\n",
      "23-M\n",
      "24-N\n",
      "25-O\n",
      "26-P\n",
      "27-Q\n",
      "28-R\n",
      "29-S\n",
      "30-T\n",
      "31-U\n",
      "32-V\n",
      "33-W\n",
      "34-X\n",
      "35-Y\n",
      "36-Z\n",
      "37-a\n",
      "38-b\n",
      "39-c\n",
      "40-d\n",
      "41-e\n",
      "42-f\n",
      "43-g\n",
      "44-h\n",
      "45-i\n",
      "46-j\n",
      "47-k\n",
      "48-l\n",
      "49-m\n",
      "50-n\n",
      "51-o\n",
      "52-p\n",
      "53-q\n",
      "54-r\n",
      "55-s\n",
      "56-t\n",
      "57-u\n",
      "58-v\n",
      "59-w\n",
      "60-x\n",
      "61-y\n",
      "62-z\n"
     ]
    }
   ],
   "source": [
    "path=os.getcwd()\n",
    "path=os.path.join(path,'Data')\n",
    "os.chdir(path)\n",
    "for i in os.listdir():\n",
    "    #print(classes)\n",
    "    a=get_key(int(i.split('e')[-1])-1)\n",
    "    n=str(int(i.split('e')[-1]))+\"-\"+a\n",
    "    print(n)\n",
    "    os.rename(i,n)\n",
    "    #classes\n",
    "os.chdir('..')"
   ]
  },
  {
   "cell_type": "code",
   "execution_count": null,
   "id": "1df5556e",
   "metadata": {},
   "outputs": [],
   "source": []
  }
 ],
 "metadata": {
  "kernelspec": {
   "display_name": "Python 3 (ipykernel)",
   "language": "python",
   "name": "python3"
  },
  "language_info": {
   "codemirror_mode": {
    "name": "ipython",
    "version": 3
   },
   "file_extension": ".py",
   "mimetype": "text/x-python",
   "name": "python",
   "nbconvert_exporter": "python",
   "pygments_lexer": "ipython3",
   "version": "3.10.9"
  }
 },
 "nbformat": 4,
 "nbformat_minor": 5
}
